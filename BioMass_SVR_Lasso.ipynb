{
 "cells": [
  {
   "cell_type": "code",
   "execution_count": 2,
   "id": "2e87a222",
   "metadata": {},
   "outputs": [],
   "source": [
    "import numpy as np\n",
    "import pandas as pd\n",
    "from sklearn import linear_model\n",
    "import matplotlib.pyplot as plt\n",
    "from sklearn.metrics import mean_squared_error, accuracy_score\n",
    "from sklearn.model_selection import cross_val_score\n"
   ]
  },
  {
   "cell_type": "code",
   "execution_count": 3,
   "id": "6a0cd62e",
   "metadata": {},
   "outputs": [
    {
     "data": {
      "text/html": [
       "<div>\n",
       "<style scoped>\n",
       "    .dataframe tbody tr th:only-of-type {\n",
       "        vertical-align: middle;\n",
       "    }\n",
       "\n",
       "    .dataframe tbody tr th {\n",
       "        vertical-align: top;\n",
       "    }\n",
       "\n",
       "    .dataframe thead th {\n",
       "        text-align: right;\n",
       "    }\n",
       "</style>\n",
       "<table border=\"1\" class=\"dataframe\">\n",
       "  <thead>\n",
       "    <tr style=\"text-align: right;\">\n",
       "      <th></th>\n",
       "      <th>date</th>\n",
       "      <th>genotype</th>\n",
       "      <th>plot_id</th>\n",
       "      <th>mdexgrn</th>\n",
       "      <th>GT_Spad</th>\n",
       "      <th>GT_StoverN</th>\n",
       "      <th>GT_StoverDigestibility</th>\n",
       "      <th>GT_Spad.1</th>\n",
       "      <th>ccperexgr</th>\n",
       "      <th>GT_StoverN.1</th>\n",
       "      <th>GT_StoverDigestibility.1</th>\n",
       "      <th>drone_height</th>\n",
       "      <th>GT_height</th>\n",
       "      <th>GT_cepto</th>\n",
       "      <th>GT_Biom</th>\n",
       "    </tr>\n",
       "  </thead>\n",
       "  <tbody>\n",
       "    <tr>\n",
       "      <th>0</th>\n",
       "      <td>03-Dec</td>\n",
       "      <td>5</td>\n",
       "      <td>1001</td>\n",
       "      <td>0.162304</td>\n",
       "      <td>28.6</td>\n",
       "      <td>2.30</td>\n",
       "      <td>61.10</td>\n",
       "      <td>28.6</td>\n",
       "      <td>0.113033</td>\n",
       "      <td>2.30</td>\n",
       "      <td>61.10</td>\n",
       "      <td>0.239349</td>\n",
       "      <td>38.6</td>\n",
       "      <td>0.32</td>\n",
       "      <td>131.4</td>\n",
       "    </tr>\n",
       "    <tr>\n",
       "      <th>1</th>\n",
       "      <td>03-Dec</td>\n",
       "      <td>4</td>\n",
       "      <td>1002</td>\n",
       "      <td>0.183857</td>\n",
       "      <td>23.8</td>\n",
       "      <td>2.28</td>\n",
       "      <td>61.20</td>\n",
       "      <td>23.8</td>\n",
       "      <td>0.136884</td>\n",
       "      <td>2.28</td>\n",
       "      <td>61.20</td>\n",
       "      <td>0.297211</td>\n",
       "      <td>42.1</td>\n",
       "      <td>0.48</td>\n",
       "      <td>129.0</td>\n",
       "    </tr>\n",
       "    <tr>\n",
       "      <th>2</th>\n",
       "      <td>03-Dec</td>\n",
       "      <td>6</td>\n",
       "      <td>1003</td>\n",
       "      <td>0.195432</td>\n",
       "      <td>24.9</td>\n",
       "      <td>1.94</td>\n",
       "      <td>60.48</td>\n",
       "      <td>24.9</td>\n",
       "      <td>0.172817</td>\n",
       "      <td>1.94</td>\n",
       "      <td>60.48</td>\n",
       "      <td>0.421204</td>\n",
       "      <td>46.1</td>\n",
       "      <td>0.69</td>\n",
       "      <td>236.2</td>\n",
       "    </tr>\n",
       "    <tr>\n",
       "      <th>3</th>\n",
       "      <td>03-Dec</td>\n",
       "      <td>2</td>\n",
       "      <td>1004</td>\n",
       "      <td>0.153846</td>\n",
       "      <td>30.5</td>\n",
       "      <td>2.62</td>\n",
       "      <td>61.27</td>\n",
       "      <td>30.5</td>\n",
       "      <td>0.080808</td>\n",
       "      <td>2.62</td>\n",
       "      <td>61.27</td>\n",
       "      <td>0.368591</td>\n",
       "      <td>44.9</td>\n",
       "      <td>0.24</td>\n",
       "      <td>132.7</td>\n",
       "    </tr>\n",
       "    <tr>\n",
       "      <th>4</th>\n",
       "      <td>03-Dec</td>\n",
       "      <td>3</td>\n",
       "      <td>1005</td>\n",
       "      <td>0.182320</td>\n",
       "      <td>26.5</td>\n",
       "      <td>2.22</td>\n",
       "      <td>60.43</td>\n",
       "      <td>26.5</td>\n",
       "      <td>0.170247</td>\n",
       "      <td>2.22</td>\n",
       "      <td>60.43</td>\n",
       "      <td>0.448669</td>\n",
       "      <td>53.8</td>\n",
       "      <td>0.75</td>\n",
       "      <td>303.3</td>\n",
       "    </tr>\n",
       "  </tbody>\n",
       "</table>\n",
       "</div>"
      ],
      "text/plain": [
       "     date  genotype  plot_id   mdexgrn  GT_Spad  GT_StoverN  \\\n",
       "0  03-Dec         5     1001  0.162304     28.6        2.30   \n",
       "1  03-Dec         4     1002  0.183857     23.8        2.28   \n",
       "2  03-Dec         6     1003  0.195432     24.9        1.94   \n",
       "3  03-Dec         2     1004  0.153846     30.5        2.62   \n",
       "4  03-Dec         3     1005  0.182320     26.5        2.22   \n",
       "\n",
       "   GT_StoverDigestibility  GT_Spad.1  ccperexgr  GT_StoverN.1  \\\n",
       "0                   61.10       28.6   0.113033          2.30   \n",
       "1                   61.20       23.8   0.136884          2.28   \n",
       "2                   60.48       24.9   0.172817          1.94   \n",
       "3                   61.27       30.5   0.080808          2.62   \n",
       "4                   60.43       26.5   0.170247          2.22   \n",
       "\n",
       "   GT_StoverDigestibility.1  drone_height  GT_height  GT_cepto  GT_Biom  \n",
       "0                     61.10      0.239349       38.6      0.32    131.4  \n",
       "1                     61.20      0.297211       42.1      0.48    129.0  \n",
       "2                     60.48      0.421204       46.1      0.69    236.2  \n",
       "3                     61.27      0.368591       44.9      0.24    132.7  \n",
       "4                     60.43      0.448669       53.8      0.75    303.3  "
      ]
     },
     "execution_count": 3,
     "metadata": {},
     "output_type": "execute_result"
    }
   ],
   "source": [
    "df01=pd.read_csv('./sorhtbiomtraining.csv')\n",
    "df01.head()"
   ]
  },
  {
   "cell_type": "code",
   "execution_count": 4,
   "id": "7e40a0c4",
   "metadata": {},
   "outputs": [],
   "source": [
    "X_train = df01.drop(['date','plot_id','genotype','GT_Spad','GT_StoverN','GT_Biom','GT_StoverDigestibility','GT_Spad.1','GT_StoverN.1','GT_StoverDigestibility.1','GT_height','GT_cepto'], axis=1)\n",
    "y_train = df01['GT_Biom']"
   ]
  },
  {
   "cell_type": "code",
   "execution_count": 5,
   "id": "75eb0389",
   "metadata": {},
   "outputs": [
    {
     "data": {
      "text/html": [
       "<div>\n",
       "<style scoped>\n",
       "    .dataframe tbody tr th:only-of-type {\n",
       "        vertical-align: middle;\n",
       "    }\n",
       "\n",
       "    .dataframe tbody tr th {\n",
       "        vertical-align: top;\n",
       "    }\n",
       "\n",
       "    .dataframe thead th {\n",
       "        text-align: right;\n",
       "    }\n",
       "</style>\n",
       "<table border=\"1\" class=\"dataframe\">\n",
       "  <thead>\n",
       "    <tr style=\"text-align: right;\">\n",
       "      <th></th>\n",
       "      <th>mdexgrn</th>\n",
       "      <th>ccperexgr</th>\n",
       "      <th>drone_height</th>\n",
       "    </tr>\n",
       "  </thead>\n",
       "  <tbody>\n",
       "    <tr>\n",
       "      <th>0</th>\n",
       "      <td>0.162304</td>\n",
       "      <td>0.113033</td>\n",
       "      <td>0.239349</td>\n",
       "    </tr>\n",
       "    <tr>\n",
       "      <th>1</th>\n",
       "      <td>0.183857</td>\n",
       "      <td>0.136884</td>\n",
       "      <td>0.297211</td>\n",
       "    </tr>\n",
       "    <tr>\n",
       "      <th>2</th>\n",
       "      <td>0.195432</td>\n",
       "      <td>0.172817</td>\n",
       "      <td>0.421204</td>\n",
       "    </tr>\n",
       "    <tr>\n",
       "      <th>3</th>\n",
       "      <td>0.153846</td>\n",
       "      <td>0.080808</td>\n",
       "      <td>0.368591</td>\n",
       "    </tr>\n",
       "    <tr>\n",
       "      <th>4</th>\n",
       "      <td>0.182320</td>\n",
       "      <td>0.170247</td>\n",
       "      <td>0.448669</td>\n",
       "    </tr>\n",
       "  </tbody>\n",
       "</table>\n",
       "</div>"
      ],
      "text/plain": [
       "    mdexgrn  ccperexgr  drone_height\n",
       "0  0.162304   0.113033      0.239349\n",
       "1  0.183857   0.136884      0.297211\n",
       "2  0.195432   0.172817      0.421204\n",
       "3  0.153846   0.080808      0.368591\n",
       "4  0.182320   0.170247      0.448669"
      ]
     },
     "execution_count": 5,
     "metadata": {},
     "output_type": "execute_result"
    }
   ],
   "source": [
    "X_train.head()"
   ]
  },
  {
   "cell_type": "code",
   "execution_count": 6,
   "id": "38dade50",
   "metadata": {},
   "outputs": [
    {
     "data": {
      "text/html": [
       "<div>\n",
       "<style scoped>\n",
       "    .dataframe tbody tr th:only-of-type {\n",
       "        vertical-align: middle;\n",
       "    }\n",
       "\n",
       "    .dataframe tbody tr th {\n",
       "        vertical-align: top;\n",
       "    }\n",
       "\n",
       "    .dataframe thead th {\n",
       "        text-align: right;\n",
       "    }\n",
       "</style>\n",
       "<table border=\"1\" class=\"dataframe\">\n",
       "  <thead>\n",
       "    <tr style=\"text-align: right;\">\n",
       "      <th></th>\n",
       "      <th>date</th>\n",
       "      <th>genotype</th>\n",
       "      <th>plot_id</th>\n",
       "      <th>drone_height</th>\n",
       "      <th>ccperexgr</th>\n",
       "      <th>mdexgrn</th>\n",
       "      <th>GT_Biom</th>\n",
       "    </tr>\n",
       "  </thead>\n",
       "  <tbody>\n",
       "    <tr>\n",
       "      <th>0</th>\n",
       "      <td>08-Dec</td>\n",
       "      <td>5</td>\n",
       "      <td>1001</td>\n",
       "      <td>0.428256</td>\n",
       "      <td>0.090688</td>\n",
       "      <td>0.275660</td>\n",
       "      <td>131.4</td>\n",
       "    </tr>\n",
       "    <tr>\n",
       "      <th>1</th>\n",
       "      <td>08-Dec</td>\n",
       "      <td>4</td>\n",
       "      <td>1002</td>\n",
       "      <td>0.558379</td>\n",
       "      <td>0.117576</td>\n",
       "      <td>0.284091</td>\n",
       "      <td>129.0</td>\n",
       "    </tr>\n",
       "    <tr>\n",
       "      <th>2</th>\n",
       "      <td>08-Dec</td>\n",
       "      <td>6</td>\n",
       "      <td>1003</td>\n",
       "      <td>0.568604</td>\n",
       "      <td>0.118117</td>\n",
       "      <td>0.287273</td>\n",
       "      <td>236.2</td>\n",
       "    </tr>\n",
       "    <tr>\n",
       "      <th>3</th>\n",
       "      <td>08-Dec</td>\n",
       "      <td>2</td>\n",
       "      <td>1004</td>\n",
       "      <td>0.560669</td>\n",
       "      <td>0.056038</td>\n",
       "      <td>0.276119</td>\n",
       "      <td>132.7</td>\n",
       "    </tr>\n",
       "    <tr>\n",
       "      <th>4</th>\n",
       "      <td>08-Dec</td>\n",
       "      <td>3</td>\n",
       "      <td>1005</td>\n",
       "      <td>0.688219</td>\n",
       "      <td>0.131442</td>\n",
       "      <td>0.289063</td>\n",
       "      <td>303.3</td>\n",
       "    </tr>\n",
       "  </tbody>\n",
       "</table>\n",
       "</div>"
      ],
      "text/plain": [
       "     date  genotype  plot_id  drone_height  ccperexgr   mdexgrn  GT_Biom\n",
       "0  08-Dec         5     1001      0.428256   0.090688  0.275660    131.4\n",
       "1  08-Dec         4     1002      0.558379   0.117576  0.284091    129.0\n",
       "2  08-Dec         6     1003      0.568604   0.118117  0.287273    236.2\n",
       "3  08-Dec         2     1004      0.560669   0.056038  0.276119    132.7\n",
       "4  08-Dec         3     1005      0.688219   0.131442  0.289063    303.3"
      ]
     },
     "execution_count": 6,
     "metadata": {},
     "output_type": "execute_result"
    }
   ],
   "source": [
    "df= pd.read_csv(\"./sorhtbiomtesting_8718.csv\")\n",
    "df.head()"
   ]
  },
  {
   "cell_type": "code",
   "execution_count": 7,
   "id": "83ae9766",
   "metadata": {},
   "outputs": [],
   "source": [
    "X_test= df[['mdexgrn','ccperexgr','drone_height']]\n",
    "y_test = df['GT_Biom']"
   ]
  },
  {
   "cell_type": "code",
   "execution_count": 8,
   "id": "b7291c5a",
   "metadata": {},
   "outputs": [
    {
     "data": {
      "text/html": [
       "<div>\n",
       "<style scoped>\n",
       "    .dataframe tbody tr th:only-of-type {\n",
       "        vertical-align: middle;\n",
       "    }\n",
       "\n",
       "    .dataframe tbody tr th {\n",
       "        vertical-align: top;\n",
       "    }\n",
       "\n",
       "    .dataframe thead th {\n",
       "        text-align: right;\n",
       "    }\n",
       "</style>\n",
       "<table border=\"1\" class=\"dataframe\">\n",
       "  <thead>\n",
       "    <tr style=\"text-align: right;\">\n",
       "      <th></th>\n",
       "      <th>mdexgrn</th>\n",
       "      <th>ccperexgr</th>\n",
       "      <th>drone_height</th>\n",
       "    </tr>\n",
       "  </thead>\n",
       "  <tbody>\n",
       "    <tr>\n",
       "      <th>0</th>\n",
       "      <td>0.275660</td>\n",
       "      <td>0.090688</td>\n",
       "      <td>0.428256</td>\n",
       "    </tr>\n",
       "    <tr>\n",
       "      <th>1</th>\n",
       "      <td>0.284091</td>\n",
       "      <td>0.117576</td>\n",
       "      <td>0.558379</td>\n",
       "    </tr>\n",
       "    <tr>\n",
       "      <th>2</th>\n",
       "      <td>0.287273</td>\n",
       "      <td>0.118117</td>\n",
       "      <td>0.568604</td>\n",
       "    </tr>\n",
       "    <tr>\n",
       "      <th>3</th>\n",
       "      <td>0.276119</td>\n",
       "      <td>0.056038</td>\n",
       "      <td>0.560669</td>\n",
       "    </tr>\n",
       "    <tr>\n",
       "      <th>4</th>\n",
       "      <td>0.289063</td>\n",
       "      <td>0.131442</td>\n",
       "      <td>0.688219</td>\n",
       "    </tr>\n",
       "  </tbody>\n",
       "</table>\n",
       "</div>"
      ],
      "text/plain": [
       "    mdexgrn  ccperexgr  drone_height\n",
       "0  0.275660   0.090688      0.428256\n",
       "1  0.284091   0.117576      0.558379\n",
       "2  0.287273   0.118117      0.568604\n",
       "3  0.276119   0.056038      0.560669\n",
       "4  0.289063   0.131442      0.688219"
      ]
     },
     "execution_count": 8,
     "metadata": {},
     "output_type": "execute_result"
    }
   ],
   "source": [
    "X_test.head()"
   ]
  },
  {
   "cell_type": "code",
   "execution_count": 9,
   "id": "35ba15a0",
   "metadata": {},
   "outputs": [],
   "source": [
    "from sklearn.ensemble import RandomForestRegressor\n"
   ]
  },
  {
   "cell_type": "code",
   "execution_count": 10,
   "id": "7459f6cb",
   "metadata": {},
   "outputs": [
    {
     "name": "stdout",
     "output_type": "stream",
     "text": [
      "{'max_depth': 15, 'n_estimators': 10}\n",
      "MSE:16411.845830776514\n"
     ]
    }
   ],
   "source": [
    "from sklearn.model_selection import GridSearchCV\n",
    "# Define the hyperparameter configuration space\n",
    "rf_params = {\n",
    "    'n_estimators': [10, 20, 30],\n",
    "    #'max_features': ['sqrt',0.5],\n",
    "    'max_depth': [15,20,30,50],\n",
    "    #'min_samples_leaf': [1,2,4,8],\n",
    "    #\"bootstrap\":[True,False],\n",
    "    #\"criterion\":['mse','mae']\n",
    "}\n",
    "clf = RandomForestRegressor(random_state=0)\n",
    "grid = GridSearchCV(clf, rf_params, cv=3, scoring='neg_mean_squared_error')\n",
    "grid.fit(X_train, y_train)\n",
    "print(grid.best_params_)\n",
    "print(\"MSE:\"+ str(-grid.best_score_))"
   ]
  },
  {
   "cell_type": "code",
   "execution_count": 11,
   "id": "a71f7224",
   "metadata": {},
   "outputs": [
    {
     "name": "stdout",
     "output_type": "stream",
     "text": [
      "{'C': 1, 'epsilon': 1, 'kernel': 'poly'}\n",
      "MSE:13663.507070863503\n"
     ]
    }
   ],
   "source": [
    "from sklearn.svm import SVR\n",
    "from sklearn.model_selection import GridSearchCV\n",
    "rf_params = {\n",
    "    'C': [1,10, 100],\n",
    "    \"kernel\":['poly','rbf','sigmoid'],\n",
    "    \"epsilon\":[0.01,0.1,1]\n",
    "}\n",
    "clf = SVR(gamma='scale')\n",
    "grid = GridSearchCV(clf, rf_params, cv=3, scoring='neg_mean_squared_error')\n",
    "grid.fit(X_train, y_train)\n",
    "print(grid.best_params_)\n",
    "print(\"MSE:\"+ str(-grid.best_score_))"
   ]
  },
  {
   "cell_type": "code",
   "execution_count": 12,
   "id": "de025f95",
   "metadata": {},
   "outputs": [
    {
     "data": {
      "text/plain": [
       "SVR(C=1, epsilon=1, kernel='poly')"
      ]
     },
     "execution_count": 12,
     "metadata": {},
     "output_type": "execute_result"
    }
   ],
   "source": [
    "# Support vector Regression----\n",
    "\n",
    "Regr= SVR(kernel = 'poly', C= 1,epsilon= 1)\n",
    "Regr.fit(X_train, y_train)"
   ]
  },
  {
   "cell_type": "code",
   "execution_count": 13,
   "id": "7ea39677",
   "metadata": {},
   "outputs": [],
   "source": [
    "y_pred = Regr.predict(X_train)"
   ]
  },
  {
   "cell_type": "code",
   "execution_count": 14,
   "id": "2196dd56",
   "metadata": {},
   "outputs": [
    {
     "data": {
      "text/plain": [
       "array([ 123.66381505,  141.13750737,  194.43950148,  152.79300589,\n",
       "        204.75235477,  237.52131508,  181.90909027,  158.99824419,\n",
       "        125.60000055,  112.23298038,  165.78447686,  126.47480928,\n",
       "        145.68301154,  185.66057241,  162.02056874,  157.96733473,\n",
       "        170.4209869 ,  127.4129667 ,  141.67918447,  152.01517212,\n",
       "        153.83636126,  169.93602296,  181.63303321,  132.26147209,\n",
       "        178.13443138,  157.91686014,  127.6946763 ,  138.30824863,\n",
       "        132.04074339,  207.13349329,  162.82451107,  159.22916547,\n",
       "        151.08486808,  144.66985739,  162.15060369,  103.45500592,\n",
       "        104.59636449,  105.56939084,  106.43353649,  113.81765283,\n",
       "        121.7775288 ,  105.83500915,  102.9958432 ,  104.57451946,\n",
       "        105.6790789 ,  111.39060528,  106.59271065,  103.6871091 ,\n",
       "        127.33903731,  112.45031663,  456.88203485,  794.58290872,\n",
       "        703.76209461,  695.08522058, 1072.81216029,  745.99995284,\n",
       "       1380.45386998,  851.89994961,  729.57239155,  413.33669338,\n",
       "        664.34867752,  612.02592413,  988.27055553,  762.29480273,\n",
       "        903.76933775,  701.5179304 ,  455.39084113,  715.44097889,\n",
       "        696.74008506,  744.43865735,  670.21928482,  730.89996994,\n",
       "        672.636263  ,  475.43147339,  615.23788218,  528.80741007,\n",
       "        927.0809794 ,  607.00854744,  585.50242672,  588.47499143,\n",
       "        505.66447979,  658.13774054,  183.98924909,  205.73505998,\n",
       "        200.17190525,  250.19562714,  243.04536086,  272.75677368,\n",
       "        268.80784891,  179.49206582,  157.37611496,  193.10340926,\n",
       "        219.48112024,  224.62977107,  214.4282906 ,  359.22178056,\n",
       "        258.05236536])"
      ]
     },
     "execution_count": 14,
     "metadata": {},
     "output_type": "execute_result"
    }
   ],
   "source": [
    "y_pred"
   ]
  },
  {
   "cell_type": "code",
   "execution_count": 15,
   "id": "c80f1653",
   "metadata": {},
   "outputs": [
    {
     "data": {
      "text/plain": [
       "0.8791686439107119"
      ]
     },
     "execution_count": 15,
     "metadata": {},
     "output_type": "execute_result"
    }
   ],
   "source": [
    "Regr.score(X_train,y_train)"
   ]
  },
  {
   "cell_type": "code",
   "execution_count": 16,
   "id": "5e8b7dbb",
   "metadata": {},
   "outputs": [],
   "source": [
    "from sklearn import metrics"
   ]
  },
  {
   "cell_type": "code",
   "execution_count": 17,
   "id": "53b13875",
   "metadata": {},
   "outputs": [
    {
     "name": "stdout",
     "output_type": "stream",
     "text": [
      "Mean Absolute Error: 70.88642132699279\n"
     ]
    }
   ],
   "source": [
    "# Calculating MAE-----of the model---\n",
    "\n",
    "meanAbErr = metrics.mean_absolute_error(y_train, y_pred)\n",
    "print('Mean Absolute Error:', meanAbErr)"
   ]
  },
  {
   "cell_type": "code",
   "execution_count": 18,
   "id": "2ec48c84",
   "metadata": {},
   "outputs": [
    {
     "name": "stdout",
     "output_type": "stream",
     "text": [
      "R-2 score: 0.88\n"
     ]
    }
   ],
   "source": [
    "print('R-2 score: {:.2f}'.format(Regr.score(X_train,y_train)))"
   ]
  },
  {
   "cell_type": "code",
   "execution_count": 19,
   "id": "9e649857",
   "metadata": {},
   "outputs": [
    {
     "name": "stdout",
     "output_type": "stream",
     "text": [
      "Mean Square Error: 10155.442681651995\n"
     ]
    }
   ],
   "source": [
    "meanSqErr = metrics.mean_squared_error(y_train, y_pred)\n",
    "\n",
    "print('Mean Square Error:', meanSqErr)"
   ]
  },
  {
   "cell_type": "code",
   "execution_count": 20,
   "id": "105f9a91",
   "metadata": {},
   "outputs": [
    {
     "name": "stdout",
     "output_type": "stream",
     "text": [
      "RMSE using Multiple Regression: 100.77421635345023\n"
     ]
    }
   ],
   "source": [
    "rootMeanSqErr = np.sqrt(metrics.mean_squared_error(y_train, y_pred))\n",
    "print('RMSE using Multiple Regression:',rootMeanSqErr)"
   ]
  },
  {
   "cell_type": "code",
   "execution_count": 21,
   "id": "a8136a04",
   "metadata": {},
   "outputs": [
    {
     "name": "stdout",
     "output_type": "stream",
     "text": [
      "The R -value is :  0.9389906712186287\n",
      "-----------------\n",
      "The P-Value is :  8.032372532822942e-46\n"
     ]
    }
   ],
   "source": [
    "from scipy import stats\n",
    "r , p= stats.pearsonr(y_train,y_pred)\n",
    "print('The R -value is : ', r)\n",
    "print('-----------------')\n",
    "print('The P-Value is : ',p)"
   ]
  },
  {
   "cell_type": "markdown",
   "id": "164daddd",
   "metadata": {},
   "source": [
    "## For test dataset-"
   ]
  },
  {
   "cell_type": "code",
   "execution_count": 22,
   "id": "bfaa8e57",
   "metadata": {},
   "outputs": [
    {
     "data": {
      "text/plain": [
       "SVR(C=1, epsilon=1, kernel='poly')"
      ]
     },
     "execution_count": 22,
     "metadata": {},
     "output_type": "execute_result"
    }
   ],
   "source": [
    "svrReg_new = SVR(kernel = 'poly', C= 1,epsilon= 1)\n",
    "svrReg_new.fit(X_test,y_test)"
   ]
  },
  {
   "cell_type": "code",
   "execution_count": 23,
   "id": "e08730d0",
   "metadata": {},
   "outputs": [],
   "source": [
    "y_pred_test = svrReg_new.predict(X_test)"
   ]
  },
  {
   "cell_type": "code",
   "execution_count": 24,
   "id": "ad293c49",
   "metadata": {},
   "outputs": [
    {
     "name": "stdout",
     "output_type": "stream",
     "text": [
      "Mean Absolute Error: 467.3255656226345\n",
      "Mean squared error : 333500.77405786846\n",
      "RMSE using Multiple Regression: 577.4952589050998\n",
      "R-2 Score: 0.4696392635781479\n"
     ]
    }
   ],
   "source": [
    "meanAbErr = metrics.mean_absolute_error(y_test, y_pred_test)\n",
    "print('Mean Absolute Error:', meanAbErr)\n",
    "\n",
    "mse = np.mean((y_pred_test - y_test)**2)\n",
    "print('Mean squared error :',mse)\n",
    "\n",
    "# Calculate RMSE\n",
    "\n",
    "rootMeanSqErr = np.sqrt(metrics.mean_squared_error(y_test, y_pred_test))\n",
    "print('RMSE using Multiple Regression:',rootMeanSqErr)\n",
    " \n",
    "## calculating score \n",
    " \n",
    "score = svrReg_new.score(X_test,y_test) \n",
    " \n",
    "print('R-2 Score:',score)"
   ]
  },
  {
   "cell_type": "code",
   "execution_count": 25,
   "id": "231cc0ae",
   "metadata": {},
   "outputs": [
    {
     "name": "stdout",
     "output_type": "stream",
     "text": [
      "The R -value is :  0.6879757488439147\n",
      "-----------------\n",
      "The P-Value is :  2.2660325231024596e-21\n"
     ]
    }
   ],
   "source": [
    "from scipy import stats\n",
    "r , p= stats.pearsonr(y_test,y_pred_test)\n",
    "print('The R -value is : ', r)\n",
    "print('-----------------')\n",
    "print('The P-Value is : ',p)"
   ]
  },
  {
   "cell_type": "markdown",
   "id": "b485d39c",
   "metadata": {},
   "source": [
    "## Visualizing regression model"
   ]
  },
  {
   "cell_type": "code",
   "execution_count": 26,
   "id": "40ff0e7c",
   "metadata": {},
   "outputs": [
    {
     "data": {
      "text/plain": [
       "[Text(0.5, 1.0, 'SVR_Regression plot of our model')]"
      ]
     },
     "execution_count": 26,
     "metadata": {},
     "output_type": "execute_result"
    },
    {
     "data": {
      "image/png": "[encoded data removed]",
      "text/plain": [
       "<Figure size 432x288 with 1 Axes>"
      ]
     },
     "metadata": {
      "needs_background": "light"
     },
     "output_type": "display_data"
    }
   ],
   "source": [
    "import seaborn as sns\n",
    "\n",
    "sns.regplot(x=X_train['mdexgrn'],y=y_train,scatter_kws={\"color\": \"red\"}, line_kws={\"color\": \"green\"}).set(title='SVR_Regression plot of our model') \n",
    "sns.regplot(x=X_train['ccperexgr'],y=y_train,scatter_kws={\"color\": \"red\"}, line_kws={\"color\": \"green\"}).set(title='SVR_Regression plot of our model') \n",
    "sns.regplot(x=X_train['drone_height'],y=y_train,scatter_kws={\"color\": \"red\"}, line_kws={\"color\": \"green\"}).set(title='SVR_Regression plot of our model') \n"
   ]
  },
  {
   "cell_type": "code",
   "execution_count": 27,
   "id": "fa03e534",
   "metadata": {},
   "outputs": [
    {
     "data": {
      "text/plain": [
       "[Text(0.5, 1.0, 'Prediction Visualization')]"
      ]
     },
     "execution_count": 27,
     "metadata": {},
     "output_type": "execute_result"
    },
    {
     "data": {
      "image/png": "[encoded data removed]",
      "text/plain": [
       "<Figure size 432x288 with 1 Axes>"
      ]
     },
     "metadata": {
      "needs_background": "light"
     },
     "output_type": "display_data"
    }
   ],
   "source": [
    "\n",
    "\n",
    "\n",
    "import seaborn as sns\n",
    "\n",
    "sns.regplot(x=y_pred_test,y=y_test,scatter_kws={\"color\": \"red\"}, line_kws={\"color\": \"green\"}).set(title='Prediction Visualization')"
   ]
  },
  {
   "cell_type": "markdown",
   "id": "a2ba753f",
   "metadata": {},
   "source": [
    "# Evaluating the model accuracy with LASSO."
   ]
  },
  {
   "cell_type": "code",
   "execution_count": 28,
   "id": "bc3c774e",
   "metadata": {},
   "outputs": [],
   "source": [
    "from sklearn.linear_model import LinearRegression\n",
    "from sklearn.linear_model import Lasso\n",
    "from sklearn.model_selection import GridSearchCV"
   ]
  },
  {
   "cell_type": "code",
   "execution_count": 29,
   "id": "934e3cfe",
   "metadata": {},
   "outputs": [
    {
     "name": "stderr",
     "output_type": "stream",
     "text": [
      "C:\\Users\\Ashutosh Yadav\\anaconda3\\lib\\site-packages\\sklearn\\linear_model\\_coordinate_descent.py:530: ConvergenceWarning: Objective did not converge. You might want to increase the number of iterations. Duality gap: 324165.0347176435, tolerance: 748.7785372207793\n",
      "  model = cd_fast.enet_coordinate_descent(\n",
      "C:\\Users\\Ashutosh Yadav\\anaconda3\\lib\\site-packages\\sklearn\\linear_model\\_coordinate_descent.py:530: ConvergenceWarning: Objective did not converge. You might want to increase the number of iterations. Duality gap: 225311.00753554728, tolerance: 488.59889717948727\n",
      "  model = cd_fast.enet_coordinate_descent(\n",
      "C:\\Users\\Ashutosh Yadav\\anaconda3\\lib\\site-packages\\sklearn\\linear_model\\_coordinate_descent.py:530: ConvergenceWarning: Objective did not converge. You might want to increase the number of iterations. Duality gap: 290805.43544396455, tolerance: 734.7604733846154\n",
      "  model = cd_fast.enet_coordinate_descent(\n"
     ]
    },
    {
     "data": {
      "text/plain": [
       "GridSearchCV(cv=5, estimator=Lasso(),\n",
       "             param_grid={'alpha': [1e-15, 1e-10, 1e-08, 0.001, 0.01, 1, 5, 10,\n",
       "                                   20, 30, 35, 40, 45, 50, 55, 100]},\n",
       "             scoring='neg_mean_squared_error')"
      ]
     },
     "execution_count": 29,
     "metadata": {},
     "output_type": "execute_result"
    }
   ],
   "source": [
    "lasso_regressor = Lasso()\n",
    "parameters={'alpha':[1e-15,1e-10,1e-8,1e-3,1e-2,1,5,10,20,30,35,40,45,50,55,100]}\n",
    "lasso_model = GridSearchCV(lasso_regressor,parameters,scoring='neg_mean_squared_error',cv=5)\n",
    "lasso_model.fit(X_train,y_train)"
   ]
  },
  {
   "cell_type": "code",
   "execution_count": 30,
   "id": "8cc8ba2b",
   "metadata": {},
   "outputs": [
    {
     "name": "stdout",
     "output_type": "stream",
     "text": [
      "{'alpha': 1}\n",
      "-12112.800577854077\n"
     ]
    }
   ],
   "source": [
    "print(lasso_model.best_params_)\n",
    "print(lasso_model.best_score_)"
   ]
  },
  {
   "cell_type": "code",
   "execution_count": 31,
   "id": "bc64b0b2",
   "metadata": {},
   "outputs": [],
   "source": [
    "\n",
    "lasso = Lasso(alpha=1)"
   ]
  },
  {
   "cell_type": "code",
   "execution_count": 32,
   "id": "07fec996",
   "metadata": {},
   "outputs": [
    {
     "data": {
      "text/plain": [
       "Lasso(alpha=1)"
      ]
     },
     "execution_count": 32,
     "metadata": {},
     "output_type": "execute_result"
    }
   ],
   "source": [
    "lasso.fit(X_train, y_train)"
   ]
  },
  {
   "cell_type": "code",
   "execution_count": 33,
   "id": "d66ff1b6",
   "metadata": {},
   "outputs": [],
   "source": [
    "y_pred = lasso.predict(X_train)"
   ]
  },
  {
   "cell_type": "code",
   "execution_count": 34,
   "id": "e521991e",
   "metadata": {},
   "outputs": [
    {
     "data": {
      "text/plain": [
       "array([ 95.61122162, 155.15177142, 279.5591634 , 210.66871245,\n",
       "       304.90802441, 358.33394869, 260.98650625, 221.09439026,\n",
       "       115.03806306,  37.75081579, 239.16352989, 124.53765782,\n",
       "       185.16848012, 280.01504346, 232.78374953, 227.58543562,\n",
       "       250.08499546, 127.32546367, 174.59677993, 209.06603446,\n",
       "       207.02429144, 249.7934406 , 272.09183953, 153.14737188,\n",
       "       260.78797403, 226.23722074, 120.37113033, 161.12184046,\n",
       "       149.70630482, 319.37729947, 233.03945951, 220.96339944,\n",
       "       202.16697009, 186.38975668, 229.05024516, -58.73296843,\n",
       "       -36.95145557, -21.00449232, -13.93665876,  54.80415852,\n",
       "        96.71578887, -17.44024922, -70.34059593, -37.62906016,\n",
       "       -19.57374955,  38.84333207, -10.24900353, -58.18492701,\n",
       "       129.12873669,  37.58172898, 542.82279169, 745.97290244,\n",
       "       691.07076037, 718.36400805, 872.32158048, 724.36555311,\n",
       "       971.50576726, 761.31915744, 709.1666394 , 517.60253491,\n",
       "       680.32172617, 648.12701694, 832.59644114, 730.78723509,\n",
       "       810.40511537, 690.52295629, 551.08909456, 711.99624206,\n",
       "       687.78131666, 720.43159413, 688.2737225 , 714.23873258,\n",
       "       695.76344049, 550.92453751, 636.86736286, 610.13091907,\n",
       "       799.34448867, 645.94781033, 638.49503963, 643.59047312,\n",
       "       592.24796941, 684.7261874 , 263.99603879, 293.29435597,\n",
       "       282.96877195, 362.61532295, 340.36546766, 377.57088726,\n",
       "       373.94375156, 244.13127294, 196.15664882, 270.68305391,\n",
       "       313.11815101, 317.4069614 , 307.52638046, 470.75840709,\n",
       "       347.71449498])"
      ]
     },
     "execution_count": 34,
     "metadata": {},
     "output_type": "execute_result"
    }
   ],
   "source": [
    "y_pred"
   ]
  },
  {
   "cell_type": "code",
   "execution_count": 35,
   "id": "8bedd1f3",
   "metadata": {},
   "outputs": [],
   "source": [
    "from sklearn import metrics"
   ]
  },
  {
   "cell_type": "code",
   "execution_count": 36,
   "id": "260bf96f",
   "metadata": {},
   "outputs": [
    {
     "name": "stdout",
     "output_type": "stream",
     "text": [
      "Mean Absolute Error: 81.44330037884372\n"
     ]
    }
   ],
   "source": [
    "# Calculating MAE-----of the model---\n",
    "\n",
    "meanAbErr = metrics.mean_absolute_error(y_train, y_pred)\n",
    "print('Mean Absolute Error:', meanAbErr)"
   ]
  },
  {
   "cell_type": "code",
   "execution_count": 37,
   "id": "cf04ecfd",
   "metadata": {},
   "outputs": [
    {
     "name": "stdout",
     "output_type": "stream",
     "text": [
      "Mean Square Error: 10620.410970593353\n"
     ]
    }
   ],
   "source": [
    "meanSqErr = metrics.mean_squared_error(y_train, y_pred)\n",
    "\n",
    "print('Mean Square Error:', meanSqErr)"
   ]
  },
  {
   "cell_type": "code",
   "execution_count": 38,
   "id": "ffa2c265",
   "metadata": {},
   "outputs": [
    {
     "name": "stdout",
     "output_type": "stream",
     "text": [
      "RMSE using Multiple Regression: 103.05537817403493\n"
     ]
    }
   ],
   "source": [
    "rootMeanSqErr = np.sqrt(metrics.mean_squared_error(y_train, y_pred))\n",
    "print('RMSE using Multiple Regression:',rootMeanSqErr)"
   ]
  },
  {
   "cell_type": "code",
   "execution_count": 39,
   "id": "f0947182",
   "metadata": {},
   "outputs": [
    {
     "name": "stdout",
     "output_type": "stream",
     "text": [
      "R-2 Score: 0.87\n"
     ]
    }
   ],
   "source": [
    "print('R-2 Score: {:.2f}'.format(lasso.score(X_train,y_train)))"
   ]
  },
  {
   "cell_type": "code",
   "execution_count": 40,
   "id": "ec3d6922",
   "metadata": {},
   "outputs": [
    {
     "name": "stdout",
     "output_type": "stream",
     "text": [
      "The R -value is :  0.9348039737197223\n",
      "-----------------\n",
      "The P-Value is :  1.703454294491131e-44\n"
     ]
    }
   ],
   "source": [
    "from scipy import stats\n",
    "r , p= stats.pearsonr(y_train,y_pred)\n",
    "print('The R -value is : ', r)\n",
    "print('-----------------')\n",
    "print('The P-Value is : ',p)"
   ]
  },
  {
   "cell_type": "code",
   "execution_count": 41,
   "id": "52329ff6",
   "metadata": {},
   "outputs": [
    {
     "data": {
      "text/plain": [
       "array([ -0.        , 209.76890327, 942.55143704])"
      ]
     },
     "execution_count": 41,
     "metadata": {},
     "output_type": "execute_result"
    }
   ],
   "source": [
    "lasso.coef_"
   ]
  },
  {
   "cell_type": "markdown",
   "id": "801b47d6",
   "metadata": {},
   "source": [
    "## For test dataset-"
   ]
  },
  {
   "cell_type": "code",
   "execution_count": 42,
   "id": "783b8fe5",
   "metadata": {},
   "outputs": [],
   "source": [
    "lasso_new = Lasso(alpha=1)"
   ]
  },
  {
   "cell_type": "code",
   "execution_count": 43,
   "id": "f720d21c",
   "metadata": {},
   "outputs": [
    {
     "data": {
      "text/plain": [
       "Lasso(alpha=1)"
      ]
     },
     "execution_count": 43,
     "metadata": {},
     "output_type": "execute_result"
    }
   ],
   "source": [
    "lasso_new.fit(X_test, y_test)"
   ]
  },
  {
   "cell_type": "code",
   "execution_count": 44,
   "id": "42dce0b3",
   "metadata": {},
   "outputs": [],
   "source": [
    "y_pred_test= lasso_new.predict(X_test)"
   ]
  },
  {
   "cell_type": "code",
   "execution_count": 45,
   "id": "5a6c0960",
   "metadata": {},
   "outputs": [
    {
     "name": "stdout",
     "output_type": "stream",
     "text": [
      "Mean Absolute Error: 339.00380198497754\n"
     ]
    }
   ],
   "source": [
    "meanAbErr = metrics.mean_absolute_error(y_test, y_pred_test)\n",
    "print('Mean Absolute Error:', meanAbErr)"
   ]
  },
  {
   "cell_type": "code",
   "execution_count": 46,
   "id": "e303bd33",
   "metadata": {},
   "outputs": [
    {
     "name": "stdout",
     "output_type": "stream",
     "text": [
      "Mean Square Error: 180888.0997016741\n"
     ]
    }
   ],
   "source": [
    "meanSqErr = metrics.mean_squared_error(y_test, y_pred_test)\n",
    "\n",
    "print('Mean Square Error:', meanSqErr)"
   ]
  },
  {
   "cell_type": "code",
   "execution_count": 47,
   "id": "904f0941",
   "metadata": {},
   "outputs": [
    {
     "name": "stdout",
     "output_type": "stream",
     "text": [
      "RMSE using Multiple Regression: 425.3094164272337\n"
     ]
    }
   ],
   "source": [
    "rootMeanSqErr = np.sqrt(metrics.mean_squared_error(y_test, y_pred_test))\n",
    "print('RMSE using Multiple Regression:',rootMeanSqErr)"
   ]
  },
  {
   "cell_type": "code",
   "execution_count": 48,
   "id": "13e8e8ed",
   "metadata": {},
   "outputs": [
    {
     "name": "stdout",
     "output_type": "stream",
     "text": [
      "R-2 Score: 0.71\n"
     ]
    }
   ],
   "source": [
    "print('R-2 Score: {:.2f}'.format(lasso_new.score(X_test,y_test)))"
   ]
  },
  {
   "cell_type": "code",
   "execution_count": 49,
   "id": "cad54126",
   "metadata": {},
   "outputs": [
    {
     "name": "stdout",
     "output_type": "stream",
     "text": [
      "The R -value is :  0.8440072222072773\n",
      "-----------------\n",
      "The P-Value is :  5.612127915086229e-40\n"
     ]
    }
   ],
   "source": [
    " from scipy import stats\n",
    "r , p= stats.pearsonr(y_test,y_pred_test)\n",
    "print('The R -value is : ', r)\n",
    "print('-----------------')\n",
    "print('The P-Value is : ',p)"
   ]
  },
  {
   "cell_type": "code",
   "execution_count": null,
   "id": "312b4249",
   "metadata": {},
   "outputs": [],
   "source": []
  }
 ],
 "metadata": {
  "kernelspec": {
   "display_name": "Python 3 (ipykernel)",
   "language": "python",
   "name": "python3"
  },
  "language_info": {
   "codemirror_mode": {
    "name": "ipython",
    "version": 3
   },
   "file_extension": ".py",
   "mimetype": "text/x-python",
   "name": "python",
   "nbconvert_exporter": "python",
   "pygments_lexer": "ipython3",
   "version": "3.9.7"
  }
 },
 "nbformat": 4,
 "nbformat_minor": 5
}
